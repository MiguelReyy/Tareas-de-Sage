{
 "cells": [
  {
   "cell_type": "code",
   "execution_count": 1,
   "metadata": {
    "collapsed": false
   },
   "outputs": [
    {
     "name": "stdout",
     "output_type": "stream",
     "text": [
      "7/8 0.875000000000000\n"
     ]
    }
   ],
   "source": [
    "a = 28/(2**5)\n",
    "print(a, n(a))"
   ]
  },
  {
   "cell_type": "code",
   "execution_count": 2,
   "metadata": {
    "collapsed": false
   },
   "outputs": [
    {
     "name": "stdout",
     "output_type": "stream",
     "text": [
      "1.41421356237310\n"
     ]
    }
   ],
   "source": [
    "print(numerical_approx(sqrt(2)))"
   ]
  },
  {
   "cell_type": "code",
   "execution_count": 3,
   "metadata": {
    "collapsed": false
   },
   "outputs": [
    {
     "name": "stdout",
     "output_type": "stream",
     "text": [
      "3*I\n"
     ]
    }
   ],
   "source": [
    "b = sqrt(-9)\n",
    "print(b)"
   ]
  },
  {
   "cell_type": "code",
   "execution_count": 9,
   "metadata": {
    "collapsed": false
   },
   "outputs": [
    {
     "name": "stdout",
     "output_type": "stream",
     "text": [
      "51.0\n"
     ]
    }
   ],
   "source": [
    "c = log(2153693963075557766310747, 3)\n",
    "print(float(c))"
   ]
  },
  {
   "cell_type": "code",
   "execution_count": 10,
   "metadata": {
    "collapsed": false
   },
   "outputs": [
    {
     "name": "stdout",
     "output_type": "stream",
     "text": [
      "3.14159265358979323846264338327950288419716939937511\n"
     ]
    }
   ],
   "source": [
    "d = n(e, digits=51)\n",
    "print(d)"
   ]
  },
  {
   "cell_type": "code",
   "execution_count": 6,
   "metadata": {
    "collapsed": false
   },
   "outputs": [
    {
     "name": "stdout",
     "output_type": "stream",
     "text": [
      "3.14159265358979323846264338327950288419716939937510582097494459230781640628620900\n"
     ]
    }
   ],
   "source": [
    "e = n(pi, digits=81)\n",
    "print(e)"
   ]
  },
  {
   "cell_type": "code",
   "execution_count": 7,
   "metadata": {
    "collapsed": false
   },
   "outputs": [
    {
     "name": "stdout",
     "output_type": "stream",
     "text": [
      "C: 9 R: 74\n"
     ]
    }
   ],
   "source": [
    "f = 956\n",
    "g = 98\n",
    "cociente = f//g\n",
    "resto = f%g\n",
    "print(\"C:\", cociente,\"R:\", resto)"
   ]
  },
  {
   "cell_type": "code",
   "execution_count": 8,
   "metadata": {
    "collapsed": false
   },
   "outputs": [
    {
     "name": "stdout",
     "output_type": "stream",
     "text": [
      "True\n"
     ]
    }
   ],
   "source": [
    "comprobacion = f == g*cociente + resto\n",
    "print(comprobacion)"
   ]
  },
  {
   "cell_type": "code",
   "execution_count": 11,
   "metadata": {
    "collapsed": false
   },
   "outputs": [
    {
     "name": "stdout",
     "output_type": "stream",
     "text": [
      "False\n"
     ]
    }
   ],
   "source": [
    "comprobacion = 234878 % 3 == 0\n",
    "print(comprobacion)"
   ]
  },
  {
   "cell_type": "code",
   "execution_count": 14,
   "metadata": {
    "collapsed": false
   },
   "outputs": [
    {
     "name": "stdout",
     "output_type": "stream",
     "text": [
      "Divsores de 134: [1, 2, 67, 134]\n",
      "Divsores de 491: [1, 491]\n",
      "Divsores de 422: [1, 2, 211, 422]\n",
      "Divsores de 1002: [1, 2, 3, 6, 167, 334, 501, 1002]\n"
     ]
    }
   ],
   "source": [
    "numeros = [134, 491, 422, 1002]\n",
    "\n",
    "for numero in numeros:\n",
    "    divisores = divisors(numero)\n",
    "    print(f\"Divsores de {numero}: {divisores}\")"
   ]
  },
  {
   "cell_type": "code",
   "execution_count": 15,
   "metadata": {
    "collapsed": false
   },
   "outputs": [
    {
     "name": "stdout",
     "output_type": "stream",
     "text": [
      "[491]\n"
     ]
    }
   ],
   "source": [
    "numeros = [134, 491, 422, 1002]\n",
    "\n",
    "primos = [numero for numero in numeros if is_prime(numero)]\n",
    "\n",
    "print(primos)"
   ]
  },
  {
   "cell_type": "code",
   "execution_count": 16,
   "metadata": {
    "collapsed": false
   },
   "outputs": [
    {
     "name": "stdout",
     "output_type": "stream",
     "text": [
      "MCD de (2, 5): 1\n",
      "MCM de (2, 5): 10\n",
      "···\n",
      "MCD de (4, 10): 2\n",
      "MCM de (4, 10): 20\n",
      "···\n",
      "MCD de (18, 51): 3\n",
      "MCM de (18, 51): 306\n",
      "···\n"
     ]
    }
   ],
   "source": [
    "pares_numeros = [(2, 5), (4, 10), (18, 51)]\n",
    "\n",
    "for g, h in pares_numeros:\n",
    "    mcd = gcd(g, h)\n",
    "    mcm = lcm(g, h)\n",
    "    \n",
    "\n",
    "    print(f\"MCD de ({g}, {h}): {mcd}\")\n",
    "    print(f\"MCM de ({g}, {h}): {mcm}\")\n",
    "    print(\"···\")"
   ]
  },
  {
   "cell_type": "code",
   "execution_count": 0,
   "metadata": {
    "collapsed": false
   },
   "outputs": [
   ],
   "source": [
   ]
  }
 ],
 "metadata": {
  "kernelspec": {
   "argv": [
    "sage-10.1",
    "--python",
    "-m",
    "sage.repl.ipython_kernel",
    "--matplotlib=inline",
    "-f",
    "{connection_file}"
   ],
   "display_name": "SageMath 10.1",
   "env": {
   },
   "language": "sagemath",
   "metadata": {
    "cocalc": {
     "description": "Open-source mathematical software system",
     "priority": 10,
     "url": "https://www.sagemath.org/"
    }
   },
   "name": "sage-10.1",
   "resource_dir": "/ext/jupyter/kernels/sage-10.1"
  }
 },
 "nbformat": 4,
 "nbformat_minor": 4
}